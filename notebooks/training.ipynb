{
 "cells": [
  {
   "cell_type": "code",
   "execution_count": 1,
   "id": "97c21741-fc4a-4116-99ce-e400a17d3727",
   "metadata": {},
   "outputs": [],
   "source": [
    "%load_ext autoreload\n",
    "%autoreload 2"
   ]
  },
  {
   "cell_type": "code",
   "execution_count": 2,
   "id": "028b0665-850b-4add-bd8a-fffea70cc9bc",
   "metadata": {},
   "outputs": [],
   "source": [
    "%cd -q .."
   ]
  },
  {
   "cell_type": "code",
   "execution_count": 3,
   "id": "b816ca61-893f-47fc-8b2c-5730ef41199d",
   "metadata": {},
   "outputs": [],
   "source": [
    "import lcpfn \n",
    "import numpy as np\n",
    "from matplotlib import pyplot as plt"
   ]
  },
  {
   "cell_type": "markdown",
   "id": "d8cabdf7-ab64-492e-a0c8-7d1ef8f49f95",
   "metadata": {},
   "source": [
    "## Generate samples from LC prior"
   ]
  },
  {
   "cell_type": "code",
   "execution_count": 4,
   "id": "c0218450-7968-44db-8a4a-a25b6a02dfb7",
   "metadata": {},
   "outputs": [
    {
     "data": {
      "text/plain": [
       "(0.0, 1.0)"
      ]
     },
     "execution_count": 4,
     "metadata": {},
     "output_type": "execute_result"
    },
    {
     "data": {
      "image/png": "[encoded data removed]",
      "text/plain": [
       "<Figure size 432x288 with 1 Axes>"
      ]
     },
     "metadata": {
      "needs_background": "light"
     },
     "output_type": "display_data"
    }
   ],
   "source": [
    "for _ in range(50):\n",
    "    prior = lcpfn.sample_from_prior(np.random)\n",
    "    curve, _ = prior()\n",
    "    plt.plot(curve, \"black\", alpha=0.1)\n",
    "plt.ylim(0, 1)"
   ]
  },
  {
   "cell_type": "markdown",
   "id": "685552b1-94b2-428a-bca2-66690f3090d2",
   "metadata": {},
   "source": [
    "## Train a PFN model with the previous learning curve prior"
   ]
  },
  {
   "cell_type": "code",
   "execution_count": 5,
   "id": "48b1c249-d9cc-4543-bbd3-c0cf410263c3",
   "metadata": {},
   "outputs": [],
   "source": [
    "get_batch_func = lcpfn.create_get_batch_func(prior=lcpfn.sample_from_prior)"
   ]
  },
  {
   "cell_type": "code",
   "execution_count": 6,
   "id": "386dcfc8-d92a-4b78-8881-b68da4b1e9c5",
   "metadata": {},
   "outputs": [
    {
     "name": "stdout",
     "output_type": "stream",
     "text": [
      "torch.Size([100, 100, 1]) torch.Size([100, 100]) torch.Size([100, 100])\n"
     ]
    }
   ],
   "source": [
    "# example of a batch\n",
    "\n",
    "X, Y, Y_noisy = get_batch_func(batch_size=100, seq_len=100, num_features=1)\n",
    "print(X.shape, Y.shape, Y_noisy.shape)"
   ]
  },
  {
   "cell_type": "code",
   "execution_count": 7,
   "id": "091def9b-dd4c-4e7d-8550-5dc016bc3893",
   "metadata": {},
   "outputs": [
    {
     "data": {
      "text/plain": [
       "<function lcpfn.train_lcpfn.train_lcpfn(get_batch_func, seq_len: int = 100, emsize: int = 512, nlayers: int = 12, num_borders: int = 1000, lr: float = 0.001, batch_size: int = 100, epochs: int = 1000)>"
      ]
     },
     "execution_count": 7,
     "metadata": {},
     "output_type": "execute_result"
    }
   ],
   "source": [
    "# Main function to train a PFN model\n",
    "\n",
    "lcpfn.train_lcpfn"
   ]
  },
  {
   "cell_type": "code",
   "execution_count": 9,
   "id": "c18b2d21-1819-425a-aeba-9b3871f5900a",
   "metadata": {},
   "outputs": [
    {
     "name": "stdout",
     "output_type": "stream",
     "text": [
      "Using 1000000 y evals to estimate 1000 buckets. Cut off the last 0 ys.\n",
      "Using cpu:0 device\n",
      "init dist\n",
      "Not using distributed\n",
      "DataLoader.__dict__ {'num_steps': 100, 'get_batch_kwargs': {'batch_size': 10, 'eval_pos_seq_len_sampler': <function train.<locals>.eval_pos_seq_len_sampler at 0x174f16e60>, 'seq_len_maximum': 100, 'device': 'cpu:0', 'num_features': 1, 'hyperparameters': {}}, 'num_features': 1}\n",
      "Style definition: None\n",
      "Using a Transformer with 2.23 M parameters\n",
      "-----------------------------------------------------------------------------------------\n",
      "| end of epoch   1 | time:  9.84s | mean loss -0.58 | pos losses   nan, 0.03,-0.40,-0.33,  nan,-0.72,  nan,-0.27,-0.37,  nan,-0.12,-0.61,-0.57,-0.73,-0.40,-0.58,-0.65,-1.00,-0.10,  nan,-0.72,-0.27,  nan,-0.30,-0.56,  nan,-0.58,  nan,-0.41,  nan,  nan,-0.42,-0.59,-0.54,-0.40,  nan,-0.41,-0.93,-0.85,  nan,  nan,-0.82,-0.56,  nan,-0.81,-0.79,  nan,-0.91,  nan,-1.08,  nan,-0.66,  nan,-0.65,  nan,  nan,  nan,-0.73,-0.89,-0.52,-0.56,-0.68,-0.74,-0.72,  nan,  nan,-0.58,-0.25,-0.61,-0.74,-0.67,  nan,  nan,  nan,-0.55,  nan,  nan,-0.73,-0.81,-0.52,-1.05,-0.49,-0.80,-0.71,  nan,  nan,  nan,-0.86,-0.64, 0.15,-0.71,  nan,  nan,  nan,-0.74,-0.44,  nan,-0.46,  nan,  nan, lr 0.001 data time  0.00 step time  0.10 forward time  0.05\n",
      "-----------------------------------------------------------------------------------------\n",
      "-----------------------------------------------------------------------------------------\n",
      "| end of epoch   2 | time:  9.95s | mean loss -1.09 | pos losses   nan,  nan,  nan,-0.11,-0.31,-0.72,  nan,  nan,  nan,-0.89,-0.74,-0.75,  nan,  nan,  nan,-0.87,-0.87,-1.29,  nan,-1.06,  nan,-1.25,-1.00,  nan,-1.20,-0.85,-1.18,-0.99,-1.31,-1.03,-1.26,-0.81,  nan,-1.03,-1.10,  nan,-1.32,  nan,-1.14,  nan,-1.09,-1.21,  nan,  nan,  nan,-1.40,-1.22,  nan,-1.19,-1.16,  nan,  nan,-1.19,-1.09,  nan,-1.30,-1.38,-1.40,-1.11,-1.19,  nan,  nan,-1.28,  nan,-1.23,  nan,  nan,  nan,-1.25,  nan,  nan,-0.92,  nan,-0.77,-1.15,  nan,-1.04,-1.12,-1.06,-1.15,  nan,-1.00,  nan,-0.57,-1.20,  nan,-0.98,-0.81,  nan,-1.04,-1.03,-1.43,-1.08,  nan,  nan,-1.40,-1.29,-1.47,-1.47,-1.42, lr 0.00075 data time  0.00 step time  0.09 forward time  0.05\n",
      "-----------------------------------------------------------------------------------------\n",
      "-----------------------------------------------------------------------------------------\n",
      "| end of epoch   3 | time: 10.00s | mean loss -1.30 | pos losses   nan,-0.08,  nan,-0.84,-0.85,-0.96,  nan,-1.02,  nan,-0.82, 0.05,  nan,  nan,-1.07,-1.41,  nan,-1.35,-1.41,-1.28,-1.44,  nan,  nan,  nan,  nan,-1.02,  nan,-1.28,  nan,-1.49,-1.30,-1.42,-1.21,-1.44,-1.41,  nan,-1.36,  nan,  nan,  nan,  nan,  nan,-1.55,-1.72,-1.27,-1.70,-1.03,  nan,-1.57,-1.45,-1.50,-1.49,  nan,  nan,  nan,-1.40,-0.89,-1.54,-1.47,-1.35,-1.28,-1.42,  nan,-1.48,  nan,  nan,-1.60,-1.42,-1.44,  nan,-1.08,-1.59,  nan,-1.46,-1.03,-0.96,-1.24,-1.36,-0.81,-1.07,  nan,  nan,  nan,  nan,  nan,-1.65,  nan,-1.58,-1.42,  nan,-1.53,-1.61,-1.71,-1.47,  nan,  nan,-1.27,-1.50,-1.56,  nan,-1.08, lr 0.0002500000000000001 data time  0.00 step time  0.10 forward time  0.05\n",
      "-----------------------------------------------------------------------------------------\n"
     ]
    }
   ],
   "source": [
    "# train a small model for 3 epochs\n",
    "\n",
    "result = lcpfn.train_lcpfn(get_batch_func=get_batch_func, \n",
    "                          seq_len=100,\n",
    "                         emsize=256,\n",
    "                         nlayers=3,\n",
    "                         num_borders=1000,\n",
    "                         lr=0.001,\n",
    "                         batch_size=10,\n",
    "                         epochs=3)"
   ]
  },
  {
   "cell_type": "code",
   "execution_count": 10,
   "id": "4584f7a0-b5d9-4623-a7bd-987da27558aa",
   "metadata": {},
   "outputs": [
    {
     "name": "stdout",
     "output_type": "stream",
     "text": [
      "TransformerModel(\n",
      "  (transformer_encoder): TransformerEncoder(\n",
      "    (layers): ModuleList(\n",
      "      (0): TransformerEncoderLayer(\n",
      "        (self_attn): MultiheadAttention(\n",
      "          (out_proj): NonDynamicallyQuantizableLinear(in_features=256, out_features=256, bias=True)\n",
      "        )\n",
      "        (linear1): Linear(in_features=256, out_features=512, bias=True)\n",
      "        (dropout): Dropout(p=0.2, inplace=False)\n",
      "        (linear2): Linear(in_features=512, out_features=256, bias=True)\n",
      "        (norm1): LayerNorm((256,), eps=1e-05, elementwise_affine=True)\n",
      "        (norm2): LayerNorm((256,), eps=1e-05, elementwise_affine=True)\n",
      "        (dropout1): Dropout(p=0.2, inplace=False)\n",
      "        (dropout2): Dropout(p=0.2, inplace=False)\n",
      "      )\n",
      "      (1): TransformerEncoderLayer(\n",
      "        (self_attn): MultiheadAttention(\n",
      "          (out_proj): NonDynamicallyQuantizableLinear(in_features=256, out_features=256, bias=True)\n",
      "        )\n",
      "        (linear1): Linear(in_features=256, out_features=512, bias=True)\n",
      "        (dropout): Dropout(p=0.2, inplace=False)\n",
      "        (linear2): Linear(in_features=512, out_features=256, bias=True)\n",
      "        (norm1): LayerNorm((256,), eps=1e-05, elementwise_affine=True)\n",
      "        (norm2): LayerNorm((256,), eps=1e-05, elementwise_affine=True)\n",
      "        (dropout1): Dropout(p=0.2, inplace=False)\n",
      "        (dropout2): Dropout(p=0.2, inplace=False)\n",
      "      )\n",
      "      (2): TransformerEncoderLayer(\n",
      "        (self_attn): MultiheadAttention(\n",
      "          (out_proj): NonDynamicallyQuantizableLinear(in_features=256, out_features=256, bias=True)\n",
      "        )\n",
      "        (linear1): Linear(in_features=256, out_features=512, bias=True)\n",
      "        (dropout): Dropout(p=0.2, inplace=False)\n",
      "        (linear2): Linear(in_features=512, out_features=256, bias=True)\n",
      "        (norm1): LayerNorm((256,), eps=1e-05, elementwise_affine=True)\n",
      "        (norm2): LayerNorm((256,), eps=1e-05, elementwise_affine=True)\n",
      "        (dropout1): Dropout(p=0.2, inplace=False)\n",
      "        (dropout2): Dropout(p=0.2, inplace=False)\n",
      "      )\n",
      "    )\n",
      "  )\n",
      "  (encoder): Sequential(\n",
      "    (0): Normalize()\n",
      "    (1): Normalize()\n",
      "    (2): Linear(in_features=1, out_features=256, bias=True)\n",
      "  )\n",
      "  (y_encoder): Sequential(\n",
      "    (0): Normalize()\n",
      "    (1): Linear(in_features=1, out_features=256, bias=True)\n",
      "  )\n",
      "  (pos_encoder): NoPositionalEncoding()\n",
      "  (decoder): Sequential(\n",
      "    (0): Linear(in_features=256, out_features=512, bias=True)\n",
      "    (1): GELU()\n",
      "    (2): Linear(in_features=512, out_features=1000, bias=True)\n",
      "  )\n",
      "  (criterion): FullSupportBarDistribution()\n",
      ")\n"
     ]
    }
   ],
   "source": [
    "# Get the trained model\n",
    "\n",
    "model = result[2]\n",
    "print(model)"
   ]
  }
 ],
 "metadata": {
  "kernelspec": {
   "display_name": "lcpfn",
   "language": "python",
   "name": "lcpfn"
  },
  "language_info": {
   "codemirror_mode": {
    "name": "ipython",
    "version": 3
   },
   "file_extension": ".py",
   "mimetype": "text/x-python",
   "name": "python",
   "nbconvert_exporter": "python",
   "pygments_lexer": "ipython3",
   "version": "3.10.11"
  }
 },
 "nbformat": 4,
 "nbformat_minor": 5
}
